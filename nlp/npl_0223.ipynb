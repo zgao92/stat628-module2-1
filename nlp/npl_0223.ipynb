{
 "cells": [
  {
   "cell_type": "code",
   "execution_count": 326,
   "metadata": {},
   "outputs": [],
   "source": [
    "import ast\n",
    "import json\n",
    "import os\n",
    "\n",
    "import numpy as np\n",
    "import pandas as pd\n",
    "from tqdm import tqdm\n",
    "\n",
    "import matplotlib.pyplot as plt\n",
    "import seaborn as sns\n",
    "import nltk\n",
    "from nltk.corpus import stopwords\n",
    "#import plotly\n",
    "#plotly.offline.init_notebook_mode(connected=True)\n",
    "#import plotly.offline as py\n",
    "import plotly.plotly as py\n",
    "import plotly.tools as tls\n",
    "import string\n",
    "from nltk.corpus import wordnet as wn\n",
    "from nltk.stem.wordnet import WordNetLemmatizer\n",
    "\n",
    "from collections import Counter\n",
    "import itertools\n",
    "\n",
    "import sys\n",
    "reload(sys)\n",
    "sys.setdefaultencoding('utf-8')"
   ]
  },
  {
   "cell_type": "code",
   "execution_count": 184,
   "metadata": {},
   "outputs": [],
   "source": [
    "def read_files(nrows=None):\n",
    "    \"\"\"Gets the cleaned train, test datasets from the CSV or JSON files.\n",
    "\n",
    "    If the CSV files containing the cleaned data don't exist yet, they are\n",
    "    created after reading and transforming the data in the raw JSON files.\n",
    "\n",
    "    Returns:\n",
    "        train, test DataFrames.\n",
    "    \"\"\"\n",
    "    # Create the clean dataset if it hasn't been done already\n",
    "    if not all(os.path.exists(p) for p in ['data/train.csv', 'data/test.csv']):\n",
    "        transform_raw_files()\n",
    "\n",
    "    # Read the clean data files\n",
    "    print('Reading CSV files...')\n",
    "    train = pd.read_csv('data/train.csv', nrows=nrows, dtype=object)\n",
    "    test = pd.read_csv('data/test.csv', nrows=nrows, dtype=object)\n",
    "\n",
    "    print('Done!')\n",
    "\n",
    "    return train, test\n",
    "\n",
    "# The most frequent 25 columns ordered by # occurrences\n",
    "CATEGORIES_TO_KEEP = [\n",
    "    'Restaurants', 'Food', 'Nightlife', 'Bars', 'American (Traditional)',\n",
    "    'American (New)', 'Breakfast & Brunch', 'Event Planning & Services',\n",
    "    'Shopping', 'Sandwiches', 'Beauty & Spas', 'Arts & Entertainment',\n",
    "    'Mexican', 'Burgers', 'Pizza', 'Italian', 'Hotels & Travel', 'Seafood',\n",
    "    'Coffee & Tea', 'Japanese', 'Home Services', 'Desserts', 'Automotive',\n",
    "    'Chinese', 'Sushi Bars'\n",
    "]\n",
    "\n",
    "def clean_file(df):\n",
    "    \"\"\"Performs cleaning on the dataset (expands columns, removes NAs, etc.).\n",
    "\n",
    "    Args:\n",
    "        df: Either the train or test DataFrame object.\n",
    "\n",
    "    Returns:\n",
    "        Cleaned DataFrame.\n",
    "    \"\"\"\n",
    "    # There are 1301 unique categories, I chose to keep only the top 25\n",
    "    print('Expanding categories...')\n",
    "\n",
    "    # Split each row of 'categories' into a list of categories\n",
    "    found_categories = [x.split(',') if isinstance(x, str) else []\n",
    "                        for x in df['categories'].tolist()]\n",
    "\n",
    "    # Strip leading/trailing spaces from these categories\n",
    "    found_categories = [[c.strip() for c in l] for l in found_categories]\n",
    "\n",
    "    # Create a DataFrame of indicator columns for the top categories\n",
    "    print('Converting categories to indicator variables...')\n",
    "    categories = pd.DataFrame()\n",
    "    for category in tqdm(CATEGORIES_TO_KEEP):\n",
    "        feature_name = 'category.{}'.format(category.replace(' ', ''))\n",
    "        categories[feature_name] = [1 if category in sublist else 0\n",
    "                                    for sublist in found_categories]\n",
    "\n",
    "    # Create an \"Other\" column for the rest of the categories\n",
    "    categories['category.Other'] = 1 - np.clip(categories.sum(axis=1), 0, 1)\n",
    "\n",
    "    # Merge the categorical indicator features with the main DataFrame\n",
    "    df = df.drop('categories', axis=1).join(categories)\n",
    "\n",
    "    # Drop attributes for now since it takes a long time to read\n",
    "    df.drop('attributes', axis=1, inplace=True)\n",
    "\n",
    "    return df"
   ]
  },
  {
   "cell_type": "code",
   "execution_count": 261,
   "metadata": {},
   "outputs": [],
   "source": [
    "# Load the first `nrows` lines of train, test\n",
    "train, test = read_files(nrows=100000)"
   ]
  },
  {
   "cell_type": "code",
   "execution_count": 289,
   "metadata": {},
   "outputs": [],
   "source": [
    "train_new = clean_file(train)"
   ]
  },
  {
   "cell_type": "code",
   "execution_count": 290,
   "metadata": {},
   "outputs": [
    {
     "data": {
      "text/plain": [
       "category.Food                      21055\n",
       "category.Nightlife                 18290\n",
       "category.Bars                      16343\n",
       "category.American(New)             13477\n",
       "category.American(Traditional)     10776\n",
       "category.Breakfast&Brunch          10678\n",
       "category.Shopping                   8315\n",
       "category.Sandwiches                 7185\n",
       "category.EventPlanning&Services     6684\n",
       "category.Mexican                    6643\n",
       "category.Other                      6297\n",
       "category.Burgers                    6062\n",
       "category.Beauty&Spas                5987\n",
       "category.Pizza                      5866\n",
       "category.Coffee&Tea                 5734\n",
       "category.Arts&Entertainment         5566\n",
       "category.Italian                    5256\n",
       "category.Automotive                 4738\n",
       "category.Hotels&Travel              4698\n",
       "category.Chinese                    4395\n",
       "category.Seafood                    4373\n",
       "category.Japanese                   4150\n",
       "category.HomeServices               4125\n",
       "category.Desserts                   3817\n",
       "category.SushiBars                  3194\n",
       "dtype: int64"
      ]
     },
     "execution_count": 290,
     "metadata": {},
     "output_type": "execute_result"
    }
   ],
   "source": [
    "#see the amount of each category\n",
    "train_new.iloc[:,13:].sum().sort_values(ascending=False)"
   ]
  },
  {
   "cell_type": "code",
   "execution_count": 266,
   "metadata": {},
   "outputs": [
    {
     "data": {
      "image/png": "[encoded data removed]",
      "text/plain": [
       "<Figure size 432x288 with 1 Axes>"
      ]
     },
     "metadata": {
      "needs_background": "light"
     },
     "output_type": "display_data"
    }
   ],
   "source": [
    "name = []\n",
    "for x in list(train_new)[13:]:\n",
    "    x=str(x)\n",
    "    name.append(x.replace('category.',''))\n",
    "\n",
    "y_pos = np.arange(len(name))\n",
    "plt.barh(y_pos, train_new.iloc[:,13:].sum(), align='center', alpha=0.8)\n",
    "plt.yticks(y_pos, name)\n",
    "plt.xlabel('Usage')\n",
    "plt.title('Programming language usage')\n",
    "\n",
    "plt.show()"
   ]
  },
  {
   "cell_type": "code",
   "execution_count": 288,
   "metadata": {},
   "outputs": [
    {
     "data": {
      "text/plain": [
       "category.Food                         460\n",
       "category.Nightlife                    512\n",
       "category.Bars                         512\n",
       "category.American(Traditional)          0\n",
       "category.American(New)                 76\n",
       "category.Breakfast&Brunch             532\n",
       "category.EventPlanning&Services        48\n",
       "category.Shopping                       7\n",
       "category.Sandwiches                     0\n",
       "category.Beauty&Spas                    0\n",
       "category.Arts&Entertainment             6\n",
       "category.Mexican                       28\n",
       "category.Burgers                        0\n",
       "category.Pizza                          0\n",
       "category.Italian                        1\n",
       "category.Hotels&Travel                  0\n",
       "category.Seafood                      500\n",
       "category.Coffee&Tea                     0\n",
       "category.Japanese                     838\n",
       "category.HomeServices                   0\n",
       "category.Desserts                      35\n",
       "category.Automotive                     0\n",
       "category.Chinese                     4395\n",
       "category.SushiBars                    275\n",
       "category.Other                          0\n",
       "text_length                        471306\n",
       "dtype: int64"
      ]
     },
     "execution_count": 288,
     "metadata": {},
     "output_type": "execute_result"
    }
   ],
   "source": [
    "(train_new.iloc[:,13:].sum()).T"
   ]
  },
  {
   "cell_type": "code",
   "execution_count": 291,
   "metadata": {},
   "outputs": [],
   "source": [
    "train_new = train_new.loc[(train_new['category.Chinese'] == 1)]  #only select 'shopping' business , we could select a specif location\n",
    "train_new['text_length'] = train_new['text'].apply(lambda x: len(x.split(\" \")))  #get the counts of words in each review"
   ]
  },
  {
   "cell_type": "code",
   "execution_count": 292,
   "metadata": {},
   "outputs": [
    {
     "data": {
      "text/plain": [
       "<matplotlib.axes._subplots.AxesSubplot at 0x1a32d323d0>"
      ]
     },
     "execution_count": 292,
     "metadata": {},
     "output_type": "execute_result"
    },
    {
     "data": {
      "image/png": "[encoded data removed]",
      "text/plain": [
       "<Figure size 432x288 with 1 Axes>"
      ]
     },
     "metadata": {},
     "output_type": "display_data"
    }
   ],
   "source": [
    "#no obvious relationship between stars & text_length\n",
    "sns.set(style=\"darkgrid\")\n",
    "sns.boxplot(x='stars', y='text_length', data=train_new)"
   ]
  },
  {
   "cell_type": "code",
   "execution_count": 284,
   "metadata": {},
   "outputs": [
    {
     "data": {
      "image/png": "[encoded data removed]",
      "text/plain": [
       "<Figure size 432x288 with 1 Axes>"
      ]
     },
     "metadata": {},
     "output_type": "display_data"
    }
   ],
   "source": [
    "#5 stars is the most\n",
    "ax = sns.countplot(x=\"stars\", data=train_new)"
   ]
  },
  {
   "cell_type": "code",
   "execution_count": 293,
   "metadata": {},
   "outputs": [
    {
     "data": {
      "text/plain": [
       "(3685, 39)"
      ]
     },
     "execution_count": 293,
     "metadata": {},
     "output_type": "execute_result"
    }
   ],
   "source": [
    "#ignore the '3' for now\n",
    "train_new2 = train_new.loc[(train_new['stars'] == '1.0') | (train_new['stars'] == '2.0') | (train_new['stars'] == '4.0') | (train_new['stars'] == '5.0')]\n",
    "train_new2.shape"
   ]
  },
  {
   "cell_type": "code",
   "execution_count": 295,
   "metadata": {},
   "outputs": [],
   "source": [
    "def text_process(text):\n",
    "    '''\n",
    "    Takes in a string of text, then performs the following:\n",
    "    1. Remove all punctuation\n",
    "    2. Remove all stopwords\n",
    "    3. Return the cleaned text as a list of words\n",
    "    '''\n",
    "    nopunc = [char for char in text if char not in string.punctuation]\n",
    "    nopunc = ''.join(nopunc)\n",
    "    \n",
    "    return [word for word in nopunc.split() if word.lower() not in stopwords.words('english')]"
   ]
  },
  {
   "cell_type": "code",
   "execution_count": 296,
   "metadata": {},
   "outputs": [],
   "source": [
    "train_new2['text_clean'] = train_new2['text'].apply(lambda x: text_process(x)) # take a while"
   ]
  },
  {
   "cell_type": "code",
   "execution_count": 368,
   "metadata": {},
   "outputs": [],
   "source": [
    "def get_wordnet_pos(treebank_tag):\n",
    "    '''\n",
    "    convert speach of a word in wordnet to a single alphabet\n",
    "    '''\n",
    "    if treebank_tag.startswith('J'):\n",
    "        return wordnet.ADJ\n",
    "    elif treebank_tag.startswith('V'):\n",
    "        return wordnet.VERB\n",
    "    elif treebank_tag.startswith('N'):\n",
    "        return wordnet.NOUN\n",
    "    elif treebank_tag.startswith('R'):\n",
    "        return wordnet.ADV\n",
    "    else:\n",
    "        return ''"
   ]
  },
  {
   "cell_type": "code",
   "execution_count": 448,
   "metadata": {},
   "outputs": [],
   "source": [
    "def words_counts_pos(df):\n",
    "    '''\n",
    "    Judge the speech of each word based on the sentence it exists, \n",
    "    count the frequency of words & speech,\n",
    "    and simplify the notation of the speech by using get_wordnet_pos\n",
    "    \n",
    "    output a frequency counting data frame\n",
    "    '''\n",
    "    df['pos_judge'] = df['text_clean'].apply(lambda x: nltk.pos_tag(x))\n",
    "    words = pd.DataFrame(data=Counter(list(itertools.chain.from_iterable(df['pos_judge']))).most_common(),columns=['tuple','counts'])\n",
    "    words2 = pd.DataFrame(data=list(words[words.columns[0]]),columns=['word','POS'])\n",
    "    words2['pos'] = words2['POS'].apply(lambda x: get_wordnet_pos(x))\n",
    "    words2.drop('POS',axis=1, inplace=True)\n",
    "    \n",
    "    words = pd.concat([words2.reset_index(drop=True), words], axis=1)\n",
    "    words.drop('tuple',axis=1, inplace=True)\n",
    "    \n",
    "    return words"
   ]
  },
  {
   "cell_type": "code",
   "execution_count": 454,
   "metadata": {},
   "outputs": [],
   "source": [
    "good = train_new2[(train_new2['stars'] == '4.0') | (train_new2['stars'] == '5.0')][['stars','text_clean']]\n",
    "good = words_counts_pos(good) #takes a while"
   ]
  },
  {
   "cell_type": "code",
   "execution_count": 462,
   "metadata": {},
   "outputs": [
    {
     "data": {
      "text/html": [
       "<div>\n",
       "<style scoped>\n",
       "    .dataframe tbody tr th:only-of-type {\n",
       "        vertical-align: middle;\n",
       "    }\n",
       "\n",
       "    .dataframe tbody tr th {\n",
       "        vertical-align: top;\n",
       "    }\n",
       "\n",
       "    .dataframe thead th {\n",
       "        text-align: right;\n",
       "    }\n",
       "</style>\n",
       "<table border=\"1\" class=\"dataframe\">\n",
       "  <thead>\n",
       "    <tr style=\"text-align: right;\">\n",
       "      <th></th>\n",
       "      <th>word</th>\n",
       "      <th>pos</th>\n",
       "      <th>counts</th>\n",
       "    </tr>\n",
       "  </thead>\n",
       "  <tbody>\n",
       "    <tr>\n",
       "      <th>0</th>\n",
       "      <td>food</td>\n",
       "      <td>n</td>\n",
       "      <td>2329</td>\n",
       "    </tr>\n",
       "    <tr>\n",
       "      <th>1</th>\n",
       "      <td>good</td>\n",
       "      <td>a</td>\n",
       "      <td>1605</td>\n",
       "    </tr>\n",
       "    <tr>\n",
       "      <th>2</th>\n",
       "      <td>place</td>\n",
       "      <td>n</td>\n",
       "      <td>1482</td>\n",
       "    </tr>\n",
       "    <tr>\n",
       "      <th>3</th>\n",
       "      <td>great</td>\n",
       "      <td>a</td>\n",
       "      <td>970</td>\n",
       "    </tr>\n",
       "    <tr>\n",
       "      <th>4</th>\n",
       "      <td>like</td>\n",
       "      <td></td>\n",
       "      <td>801</td>\n",
       "    </tr>\n",
       "    <tr>\n",
       "      <th>5</th>\n",
       "      <td>service</td>\n",
       "      <td>n</td>\n",
       "      <td>782</td>\n",
       "    </tr>\n",
       "    <tr>\n",
       "      <th>6</th>\n",
       "      <td>time</td>\n",
       "      <td>n</td>\n",
       "      <td>741</td>\n",
       "    </tr>\n",
       "    <tr>\n",
       "      <th>7</th>\n",
       "      <td>really</td>\n",
       "      <td>r</td>\n",
       "      <td>686</td>\n",
       "    </tr>\n",
       "    <tr>\n",
       "      <th>8</th>\n",
       "      <td>restaurant</td>\n",
       "      <td>n</td>\n",
       "      <td>635</td>\n",
       "    </tr>\n",
       "    <tr>\n",
       "      <th>9</th>\n",
       "      <td>Chinese</td>\n",
       "      <td>a</td>\n",
       "      <td>635</td>\n",
       "    </tr>\n",
       "  </tbody>\n",
       "</table>\n",
       "</div>"
      ],
      "text/plain": [
       "         word pos  counts\n",
       "0        food   n    2329\n",
       "1        good   a    1605\n",
       "2       place   n    1482\n",
       "3       great   a     970\n",
       "4        like         801\n",
       "5     service   n     782\n",
       "6        time   n     741\n",
       "7      really   r     686\n",
       "8  restaurant   n     635\n",
       "9     Chinese   a     635"
      ]
     },
     "execution_count": 462,
     "metadata": {},
     "output_type": "execute_result"
    }
   ],
   "source": [
    "good.head(10)"
   ]
  },
  {
   "cell_type": "code",
   "execution_count": 458,
   "metadata": {},
   "outputs": [],
   "source": [
    "bad = train_new2[(train_new2['stars'] == '1.0') | (train_new2['stars'] == '2.0')][['stars','text_clean']]\n",
    "bad = words_counts_pos(bad) #takes a while"
   ]
  },
  {
   "cell_type": "code",
   "execution_count": 463,
   "metadata": {},
   "outputs": [
    {
     "data": {
      "text/html": [
       "<div>\n",
       "<style scoped>\n",
       "    .dataframe tbody tr th:only-of-type {\n",
       "        vertical-align: middle;\n",
       "    }\n",
       "\n",
       "    .dataframe tbody tr th {\n",
       "        vertical-align: top;\n",
       "    }\n",
       "\n",
       "    .dataframe thead th {\n",
       "        text-align: right;\n",
       "    }\n",
       "</style>\n",
       "<table border=\"1\" class=\"dataframe\">\n",
       "  <thead>\n",
       "    <tr style=\"text-align: right;\">\n",
       "      <th></th>\n",
       "      <th>word</th>\n",
       "      <th>pos</th>\n",
       "      <th>counts</th>\n",
       "    </tr>\n",
       "  </thead>\n",
       "  <tbody>\n",
       "    <tr>\n",
       "      <th>0</th>\n",
       "      <td>food</td>\n",
       "      <td>n</td>\n",
       "      <td>1057</td>\n",
       "    </tr>\n",
       "    <tr>\n",
       "      <th>1</th>\n",
       "      <td>place</td>\n",
       "      <td>n</td>\n",
       "      <td>519</td>\n",
       "    </tr>\n",
       "    <tr>\n",
       "      <th>2</th>\n",
       "      <td>like</td>\n",
       "      <td></td>\n",
       "      <td>443</td>\n",
       "    </tr>\n",
       "    <tr>\n",
       "      <th>3</th>\n",
       "      <td>order</td>\n",
       "      <td>n</td>\n",
       "      <td>417</td>\n",
       "    </tr>\n",
       "    <tr>\n",
       "      <th>4</th>\n",
       "      <td>good</td>\n",
       "      <td>a</td>\n",
       "      <td>410</td>\n",
       "    </tr>\n",
       "    <tr>\n",
       "      <th>5</th>\n",
       "      <td>service</td>\n",
       "      <td>n</td>\n",
       "      <td>393</td>\n",
       "    </tr>\n",
       "    <tr>\n",
       "      <th>6</th>\n",
       "      <td>would</td>\n",
       "      <td></td>\n",
       "      <td>339</td>\n",
       "    </tr>\n",
       "    <tr>\n",
       "      <th>7</th>\n",
       "      <td>one</td>\n",
       "      <td></td>\n",
       "      <td>326</td>\n",
       "    </tr>\n",
       "    <tr>\n",
       "      <th>8</th>\n",
       "      <td>time</td>\n",
       "      <td>n</td>\n",
       "      <td>316</td>\n",
       "    </tr>\n",
       "    <tr>\n",
       "      <th>9</th>\n",
       "      <td>us</td>\n",
       "      <td></td>\n",
       "      <td>307</td>\n",
       "    </tr>\n",
       "  </tbody>\n",
       "</table>\n",
       "</div>"
      ],
      "text/plain": [
       "      word pos  counts\n",
       "0     food   n    1057\n",
       "1    place   n     519\n",
       "2     like         443\n",
       "3    order   n     417\n",
       "4     good   a     410\n",
       "5  service   n     393\n",
       "6    would         339\n",
       "7      one         326\n",
       "8     time   n     316\n",
       "9       us         307"
      ]
     },
     "execution_count": 463,
     "metadata": {},
     "output_type": "execute_result"
    }
   ],
   "source": [
    "bad.head(10)"
   ]
  },
  {
   "cell_type": "code",
   "execution_count": null,
   "metadata": {},
   "outputs": [],
   "source": [
    "#to do:\n",
    "#delete frequent words shows in all \"stars\"\n",
    "#the judge of pos for words could be improved: \n",
    "#     1. based on original sentence instead of the cleaned one;\n",
    "#     2. some of the words like \"like\", \"would\" are without pos\n",
    "\n",
    "#my question:\n",
    "# there is only 'others' in the new version of csv file, no other category like 'Food', 'Hotel'"
   ]
  }
 ],
 "metadata": {
  "kernelspec": {
   "display_name": "Python 2",
   "language": "python",
   "name": "python2"
  },
  "language_info": {
   "codemirror_mode": {
    "name": "ipython",
    "version": 2
   },
   "file_extension": ".py",
   "mimetype": "text/x-python",
   "name": "python",
   "nbconvert_exporter": "python",
   "pygments_lexer": "ipython2",
   "version": "2.7.15"
  }
 },
 "nbformat": 4,
 "nbformat_minor": 2
}
