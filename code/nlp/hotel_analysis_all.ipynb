{
 "cells": [
  {
   "cell_type": "code",
   "execution_count": 4,
   "metadata": {},
   "outputs": [],
   "source": [
    "import ast\n",
    "import json\n",
    "import os\n",
    "\n",
    "import numpy as np\n",
    "import pandas as pd\n",
    "from tqdm import tqdm\n",
    "\n",
    "import matplotlib.pyplot as plt\n",
    "import seaborn as sns\n",
    "import nltk\n",
    "from nltk.corpus import stopwords\n",
    "#import plotly\n",
    "#plotly.offline.init_notebook_mode(connected=True)\n",
    "#import plotly.offline as py\n",
    "import plotly.plotly as py\n",
    "import plotly.tools as tls\n",
    "import string\n",
    "from nltk.corpus import wordnet as wn\n",
    "from nltk.stem.wordnet import WordNetLemmatizer\n",
    "from src.data import read_files\n",
    "from collections import Counter\n",
    "import itertools\n",
    "from textblob import TextBlob\n",
    "from langdetect import detect\n",
    "\n",
    "import sys\n",
    "reload(sys)\n",
    "sys.setdefaultencoding('utf-8')\n",
    "\n",
    "import csv"
   ]
  },
  {
   "cell_type": "code",
   "execution_count": 7,
   "metadata": {},
   "outputs": [],
   "source": [
    "hotel = pd.DataFrame.from_csv('./data/hotel_train.csv')"
   ]
  },
  {
   "cell_type": "code",
   "execution_count": 46,
   "metadata": {},
   "outputs": [
    {
     "data": {
      "text/plain": [
       "4833"
      ]
     },
     "execution_count": 46,
     "metadata": {},
     "output_type": "execute_result"
    }
   ],
   "source": [
    "len(set(hotel.index))"
   ]
  },
  {
   "cell_type": "code",
   "execution_count": 18,
   "metadata": {},
   "outputs": [],
   "source": [
    "def lan_detect(s):\n",
    "    s = unicode(s, \"utf-8\")\n",
    "    try:\n",
    "        lan = detect(s)\n",
    "    except:\n",
    "        lan = 'invalid feature'\n",
    "    return lan"
   ]
  },
  {
   "cell_type": "code",
   "execution_count": 20,
   "metadata": {},
   "outputs": [],
   "source": [
    "hotel['language'] = hotel['text'].apply(lambda x: lan_detect(x)) #23 languages besides english, with 1006 reviews in foreign language"
   ]
  },
  {
   "cell_type": "code",
   "execution_count": 23,
   "metadata": {},
   "outputs": [],
   "source": [
    "hotel_tem = hotel[hotel['language']!='en']"
   ]
  },
  {
   "cell_type": "code",
   "execution_count": 48,
   "metadata": {},
   "outputs": [
    {
     "data": {
      "text/plain": [
       "(1006, 35)"
      ]
     },
     "execution_count": 48,
     "metadata": {},
     "output_type": "execute_result"
    }
   ],
   "source": [
    "hotel_tem.shape"
   ]
  },
  {
   "cell_type": "code",
   "execution_count": 27,
   "metadata": {},
   "outputs": [
    {
     "data": {
      "image/png": "[encoded data removed]",
      "text/plain": [
       "<Figure size 432x288 with 1 Axes>"
      ]
     },
     "metadata": {
      "needs_background": "light"
     },
     "output_type": "display_data"
    }
   ],
   "source": [
    "ax = sns.countplot(y=\"language\", data=hotel_tem)\n",
    "plt.title('Counts of language')\n",
    "plt.show()"
   ]
  },
  {
   "cell_type": "code",
   "execution_count": 40,
   "metadata": {},
   "outputs": [],
   "source": [
    "hotel_tem['Language'] = 'Other'\n",
    "hotel_tem.loc[hotel_tem['language']=='es', 'Language'] = 'Spanish'\n",
    "hotel_tem.loc[hotel_tem['language']=='de', 'Language'] = 'German'\n",
    "hotel_tem.loc[hotel_tem['language']=='fr', 'Language'] = 'French'\n",
    "hotel_tem.loc[hotel_tem['language']=='pt', 'Language'] = 'Portuguese'\n",
    "hotel_tem.loc[hotel_tem['language']=='zh-cn', 'Language'] = 'Chinese'\n",
    "hotel_tem.loc[hotel_tem['language']=='zh-tw', 'Language'] = 'Chinese'\n",
    "hotel_tem.loc[hotel_tem['language']=='ja', 'Language'] = 'Japanese'\n",
    "hotel_tem.loc[hotel_tem['language']=='it', 'Language'] = 'Italian'\n",
    "hotel_tem.loc[hotel_tem['language']=='nl', 'Language'] = 'Dutch'"
   ]
  },
  {
   "cell_type": "code",
   "execution_count": 42,
   "metadata": {},
   "outputs": [
    {
     "data": {
      "image/png": "[encoded data removed]",
      "text/plain": [
       "<Figure size 432x288 with 1 Axes>"
      ]
     },
     "metadata": {
      "needs_background": "light"
     },
     "output_type": "display_data"
    }
   ],
   "source": [
    "ax = sns.countplot(y=\"Language\", data=hotel_tem, order = ['French', 'German', 'Spanish', 'Japanese','Chinese', 'Portuguese',\n",
    "                                                          'Italian',  'Dutch', 'Other'])\n",
    "plt.title('Counts of language')\n",
    "plt.show()"
   ]
  },
  {
   "cell_type": "code",
   "execution_count": 56,
   "metadata": {},
   "outputs": [],
   "source": [
    "hotel.drop(columns=['category', 'Language'],inplace=True)"
   ]
  },
  {
   "cell_type": "code",
   "execution_count": 57,
   "metadata": {},
   "outputs": [
    {
     "data": {
      "text/html": [
       "<div>\n",
       "<style scoped>\n",
       "    .dataframe tbody tr th:only-of-type {\n",
       "        vertical-align: middle;\n",
       "    }\n",
       "\n",
       "    .dataframe tbody tr th {\n",
       "        vertical-align: top;\n",
       "    }\n",
       "\n",
       "    .dataframe thead th {\n",
       "        text-align: right;\n",
       "    }\n",
       "</style>\n",
       "<table border=\"1\" class=\"dataframe\">\n",
       "  <thead>\n",
       "    <tr style=\"text-align: right;\">\n",
       "      <th></th>\n",
       "      <th>stars</th>\n",
       "      <th>text</th>\n",
       "      <th>is_open</th>\n",
       "      <th>latitude</th>\n",
       "      <th>longitude</th>\n",
       "      <th>category.Restaurants</th>\n",
       "      <th>category.Food</th>\n",
       "      <th>category.Nightlife</th>\n",
       "      <th>category.Bars</th>\n",
       "      <th>category.American(Traditional)</th>\n",
       "      <th>...</th>\n",
       "      <th>category.Coffee&amp;Tea</th>\n",
       "      <th>category.Japanese</th>\n",
       "      <th>category.HomeServices</th>\n",
       "      <th>category.Desserts</th>\n",
       "      <th>category.Automotive</th>\n",
       "      <th>category.Chinese</th>\n",
       "      <th>category.SushiBars</th>\n",
       "      <th>category.Other</th>\n",
       "      <th>text_length</th>\n",
       "      <th>language</th>\n",
       "    </tr>\n",
       "    <tr>\n",
       "      <th>business_id</th>\n",
       "      <th></th>\n",
       "      <th></th>\n",
       "      <th></th>\n",
       "      <th></th>\n",
       "      <th></th>\n",
       "      <th></th>\n",
       "      <th></th>\n",
       "      <th></th>\n",
       "      <th></th>\n",
       "      <th></th>\n",
       "      <th></th>\n",
       "      <th></th>\n",
       "      <th></th>\n",
       "      <th></th>\n",
       "      <th></th>\n",
       "      <th></th>\n",
       "      <th></th>\n",
       "      <th></th>\n",
       "      <th></th>\n",
       "      <th></th>\n",
       "      <th></th>\n",
       "    </tr>\n",
       "  </thead>\n",
       "  <tbody>\n",
       "    <tr>\n",
       "      <th>105786</th>\n",
       "      <td>1.0</td>\n",
       "      <td>.</td>\n",
       "      <td>1.0</td>\n",
       "      <td>36.112358</td>\n",
       "      <td>-115.170221</td>\n",
       "      <td>1.0</td>\n",
       "      <td>0.0</td>\n",
       "      <td>0.0</td>\n",
       "      <td>0.0</td>\n",
       "      <td>0.0</td>\n",
       "      <td>...</td>\n",
       "      <td>0.0</td>\n",
       "      <td>0.0</td>\n",
       "      <td>0.0</td>\n",
       "      <td>0.0</td>\n",
       "      <td>0.0</td>\n",
       "      <td>0.0</td>\n",
       "      <td>0.0</td>\n",
       "      <td>0.0</td>\n",
       "      <td>1</td>\n",
       "      <td>invalid feature</td>\n",
       "    </tr>\n",
       "  </tbody>\n",
       "</table>\n",
       "<p>1 rows × 33 columns</p>\n",
       "</div>"
      ],
      "text/plain": [
       "             stars text  is_open   latitude   longitude  category.Restaurants  \\\n",
       "business_id                                                                     \n",
       "105786         1.0    .      1.0  36.112358 -115.170221                   1.0   \n",
       "\n",
       "             category.Food  category.Nightlife  category.Bars  \\\n",
       "business_id                                                     \n",
       "105786                 0.0                 0.0            0.0   \n",
       "\n",
       "             category.American(Traditional)       ...         \\\n",
       "business_id                                       ...          \n",
       "105786                                  0.0       ...          \n",
       "\n",
       "             category.Coffee&Tea  category.Japanese  category.HomeServices  \\\n",
       "business_id                                                                  \n",
       "105786                       0.0                0.0                    0.0   \n",
       "\n",
       "             category.Desserts  category.Automotive  category.Chinese  \\\n",
       "business_id                                                             \n",
       "105786                     0.0                  0.0               0.0   \n",
       "\n",
       "             category.SushiBars  category.Other  text_length         language  \n",
       "business_id                                                                    \n",
       "105786                      0.0             0.0            1  invalid feature  \n",
       "\n",
       "[1 rows x 33 columns]"
      ]
     },
     "execution_count": 57,
     "metadata": {},
     "output_type": "execute_result"
    }
   ],
   "source": [
    "hotel[hotel['language']=='invalid feature']"
   ]
  },
  {
   "cell_type": "code",
   "execution_count": 59,
   "metadata": {},
   "outputs": [],
   "source": [
    "import string\n",
    "from googletrans import Translator\n",
    "#from google.api_core.protobuf_helpers import get_messages\n",
    "#from __future__ import absolute_import\n",
    "from google.cloud import translate\n",
    "from langdetect import detect\n",
    "translator = Translator()\n",
    "    \n",
    "def text_process(text):\n",
    "    '''\n",
    "    Takes in a string of text, then performs the following:\n",
    "    1. Detect the language of the text and translate it into english\n",
    "    2. Remove all punctuation\n",
    "    3. Remove all stopwords\n",
    "    4. Return the cleaned text as a list of words\n",
    "    '''\n",
    "    s = unicode(text, \"utf-8\")\n",
    "    #if detect(s)!='en':  #translate other language to english\n",
    "        #blob = blob.translate(from_lang=blob.detect_language(),to='en')\n",
    "     #   s = translator.translate(s).text\n",
    "    nopunc = [char for char in s if char not in string.punctuation]\n",
    "    nopunc = ''.join(nopunc)\n",
    "    \n",
    "    return [word for word in nopunc.split() if word.lower() not in stopwords.words('english')]\n",
    "\n",
    "def clean_text(text):\n",
    "    text = \" \".join(text)\n",
    "    return(text)"
   ]
  },
  {
   "cell_type": "code",
   "execution_count": 60,
   "metadata": {},
   "outputs": [],
   "source": [
    "hotel['text_clean'] = hotel['text'].apply(lambda x: text_process(x))\n",
    "hotel['text_clean'] = hotel['text_clean'].apply(lambda x: clean_text(x))"
   ]
  },
  {
   "cell_type": "code",
   "execution_count": 75,
   "metadata": {},
   "outputs": [],
   "source": [
    "def get_phrases(x):\n",
    "    text = x.lower()\n",
    "    blob = TextBlob(text)\n",
    "    return set(blob.noun_phrases)"
   ]
  },
  {
   "cell_type": "code",
   "execution_count": 99,
   "metadata": {},
   "outputs": [],
   "source": [
    "hotel['phrases'] = hotel['text_clean'].apply(lambda x: get_phrases(x))\n",
    "hotel['phrases'] = hotel['phrases'].apply(lambda x: list(x))"
   ]
  },
  {
   "cell_type": "code",
   "execution_count": 190,
   "metadata": {},
   "outputs": [],
   "source": [
    "def count_phrase(stars):\n",
    "    p_list = list(itertools.chain(*list(hotel.loc[hotel['stars']==stars, 'phrases'])))\n",
    "    p_count = pd.DataFrame(Counter(p_list).most_common())\n",
    "    p = pd.DataFrame(p_count[p_count.columns[1]])\n",
    "    p.index = p_count[p_count.columns[0]]\n",
    "    p.columns = [str(stars)]\n",
    "    return p"
   ]
  },
  {
   "cell_type": "code",
   "execution_count": 191,
   "metadata": {},
   "outputs": [],
   "source": [
    "p = pd.concat([count_phrase(1), count_phrase(2),count_phrase(3),count_phrase(4),count_phrase(5)],axis=1)\n",
    "p = p.sort_values(by=['1'], ascending=False)\n",
    "p = p.fillna(0)\n",
    "phrase_sum = sum(pd.DataFrame.sum(p))"
   ]
  },
  {
   "cell_type": "code",
   "execution_count": 270,
   "metadata": {},
   "outputs": [],
   "source": [
    "def draw_phrase(phrase,col):\n",
    "    pl = (p[p.index==phrase].values/phrase_sum).tolist()\n",
    "    pl = list(itertools.chain(*pl))\n",
    "    plt.bar(x=range(1,6),height=pl,color=col)\n",
    "    plt.title(phrase,fontweight=\"bold\", fontsize=20)\n",
    "    plt.xlabel('stars')\n",
    "    plt.ylabel('rate')\n",
    "    \n",
    "    plt.show()"
   ]
  },
  {
   "cell_type": "code",
   "execution_count": 300,
   "metadata": {},
   "outputs": [
    {
     "data": {
      "image/png": "[encoded data removed]",
      "text/plain": [
       "<Figure size 432x288 with 1 Axes>"
      ]
     },
     "metadata": {
      "needs_background": "light"
     },
     "output_type": "display_data"
    }
   ],
   "source": [
    "draw_phrase('zero stars','gray')"
   ]
  },
  {
   "cell_type": "code",
   "execution_count": 307,
   "metadata": {},
   "outputs": [
    {
     "data": {
      "text/html": [
       "<div>\n",
       "<style scoped>\n",
       "    .dataframe tbody tr th:only-of-type {\n",
       "        vertical-align: middle;\n",
       "    }\n",
       "\n",
       "    .dataframe tbody tr th {\n",
       "        vertical-align: top;\n",
       "    }\n",
       "\n",
       "    .dataframe thead th {\n",
       "        text-align: right;\n",
       "    }\n",
       "</style>\n",
       "<table border=\"1\" class=\"dataframe\">\n",
       "  <thead>\n",
       "    <tr style=\"text-align: right;\">\n",
       "      <th></th>\n",
       "      <th>1</th>\n",
       "      <th>2</th>\n",
       "      <th>3</th>\n",
       "      <th>4</th>\n",
       "      <th>5</th>\n",
       "    </tr>\n",
       "  </thead>\n",
       "  <tbody>\n",
       "    <tr>\n",
       "      <th>las vegas</th>\n",
       "      <td>831.0</td>\n",
       "      <td>303.0</td>\n",
       "      <td>387.0</td>\n",
       "      <td>844.0</td>\n",
       "      <td>1474.0</td>\n",
       "    </tr>\n",
       "    <tr>\n",
       "      <th>great experience</th>\n",
       "      <td>105.0</td>\n",
       "      <td>75.0</td>\n",
       "      <td>92.0</td>\n",
       "      <td>548.0</td>\n",
       "      <td>1341.0</td>\n",
       "    </tr>\n",
       "    <tr>\n",
       "      <th>great service</th>\n",
       "      <td>121.0</td>\n",
       "      <td>83.0</td>\n",
       "      <td>127.0</td>\n",
       "      <td>487.0</td>\n",
       "      <td>1265.0</td>\n",
       "    </tr>\n",
       "    <tr>\n",
       "      <th>great time</th>\n",
       "      <td>76.0</td>\n",
       "      <td>74.0</td>\n",
       "      <td>105.0</td>\n",
       "      <td>584.0</td>\n",
       "      <td>1104.0</td>\n",
       "    </tr>\n",
       "    <tr>\n",
       "      <th>great place</th>\n",
       "      <td>63.0</td>\n",
       "      <td>58.0</td>\n",
       "      <td>186.0</td>\n",
       "      <td>689.0</td>\n",
       "      <td>878.0</td>\n",
       "    </tr>\n",
       "    <tr>\n",
       "      <th>friendly helpful</th>\n",
       "      <td>73.0</td>\n",
       "      <td>127.0</td>\n",
       "      <td>220.0</td>\n",
       "      <td>610.0</td>\n",
       "      <td>869.0</td>\n",
       "    </tr>\n",
       "    <tr>\n",
       "      <th>front desk</th>\n",
       "      <td>4028.0</td>\n",
       "      <td>1743.0</td>\n",
       "      <td>1149.0</td>\n",
       "      <td>1058.0</td>\n",
       "      <td>791.0</td>\n",
       "    </tr>\n",
       "    <tr>\n",
       "      <th>friendly staff</th>\n",
       "      <td>54.0</td>\n",
       "      <td>94.0</td>\n",
       "      <td>237.0</td>\n",
       "      <td>642.0</td>\n",
       "      <td>759.0</td>\n",
       "    </tr>\n",
       "    <tr>\n",
       "      <th>great hotel</th>\n",
       "      <td>56.0</td>\n",
       "      <td>65.0</td>\n",
       "      <td>109.0</td>\n",
       "      <td>600.0</td>\n",
       "      <td>657.0</td>\n",
       "    </tr>\n",
       "    <tr>\n",
       "      <th>great location</th>\n",
       "      <td>62.0</td>\n",
       "      <td>144.0</td>\n",
       "      <td>363.0</td>\n",
       "      <td>838.0</td>\n",
       "      <td>653.0</td>\n",
       "    </tr>\n",
       "  </tbody>\n",
       "</table>\n",
       "</div>"
      ],
      "text/plain": [
       "                       1       2       3       4       5\n",
       "las vegas          831.0   303.0   387.0   844.0  1474.0\n",
       "great experience   105.0    75.0    92.0   548.0  1341.0\n",
       "great service      121.0    83.0   127.0   487.0  1265.0\n",
       "great time          76.0    74.0   105.0   584.0  1104.0\n",
       "great place         63.0    58.0   186.0   689.0   878.0\n",
       "friendly helpful    73.0   127.0   220.0   610.0   869.0\n",
       "front desk        4028.0  1743.0  1149.0  1058.0   791.0\n",
       "friendly staff      54.0    94.0   237.0   642.0   759.0\n",
       "great hotel         56.0    65.0   109.0   600.0   657.0\n",
       "great location      62.0   144.0   363.0   838.0   653.0"
      ]
     },
     "execution_count": 307,
     "metadata": {},
     "output_type": "execute_result"
    }
   ],
   "source": [
    "p.sort_values(by=['5'], ascending=False).head(10)"
   ]
  },
  {
   "cell_type": "code",
   "execution_count": 299,
   "metadata": {},
   "outputs": [
    {
     "data": {
      "image/png": "[encoded data removed]",
      "text/plain": [
       "<Figure size 432x288 with 1 Axes>"
      ]
     },
     "metadata": {
      "needs_background": "light"
     },
     "output_type": "display_data"
    }
   ],
   "source": [
    "draw_phrase('great price','palevioletred')"
   ]
  },
  {
   "cell_type": "code",
   "execution_count": 102,
   "metadata": {},
   "outputs": [],
   "source": [
    "hotel.to_csv('./data/hotel.csv',index=False)"
   ]
  },
  {
   "cell_type": "code",
   "execution_count": 194,
   "metadata": {},
   "outputs": [],
   "source": [
    "p.to_csv('./data/hotel_phrase_count.csv',index=False)"
   ]
  }
 ],
 "metadata": {
  "kernelspec": {
   "display_name": "Python 2",
   "language": "python",
   "name": "python2"
  },
  "language_info": {
   "codemirror_mode": {
    "name": "ipython",
    "version": 2
   },
   "file_extension": ".py",
   "mimetype": "text/x-python",
   "name": "python",
   "nbconvert_exporter": "python",
   "pygments_lexer": "ipython2",
   "version": "2.7.15"
  }
 },
 "nbformat": 4,
 "nbformat_minor": 2
}
