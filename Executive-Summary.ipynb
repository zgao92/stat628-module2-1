{
 "cells": [
  {
   "cell_type": "code",
   "execution_count": 1,
   "metadata": {
    "collapsed": true
   },
   "outputs": [],
   "source": [
    "import numpy as np\n",
    "\n",
    "from code.data import read_files\n",
    "from code.main import *\n",
    "\n",
    "# Load the files; set `nrows=X` to read only X rows of each file\n",
    "bus_train, bus_test, rev_train, rev_test = read_files(nrows=100000)\n",
    "\n",
    "print(bus_train.shape)\n",
    "print(bus_test.shape)\n",
    "print(rev_train.shape)\n",
    "print(rev_test.shape)\n",
    "\n",
    "print(bus_test.head())\n",
    "print(rev_test.head())\n"
   ]
  },
  {
   "cell_type": "code",
   "execution_count": null,
   "metadata": {},
   "outputs": [],
   "source": []
  }
 ],
 "metadata": {
  "kernelspec": {
   "display_name": "Python 2",
   "language": "python",
   "name": "python2"
  },
  "language_info": {
   "codemirror_mode": {
    "name": "ipython",
    "version": 2
   },
   "file_extension": ".py",
   "mimetype": "text/x-python",
   "name": "python",
   "nbconvert_exporter": "python",
   "pygments_lexer": "ipython2",
   "version": "2.7.6"
  }
 },
 "nbformat": 4,
 "nbformat_minor": 0
}
